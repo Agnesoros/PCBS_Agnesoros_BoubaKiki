{
 "cells": [
  {
   "cell_type": "markdown",
   "metadata": {},
   "source": [
    "# A \"Bouba Kiki\" spectral experiment"
   ]
  },
  {
   "cell_type": "markdown",
   "metadata": {},
   "source": [
    "### Imported modules"
   ]
  },
  {
   "cell_type": "code",
   "execution_count": null,
   "metadata": {},
   "outputs": [],
   "source": [
    "# Modules for experiment structure and interface\n",
    "import expyriment\n",
    "\n",
    "from expyriment import design, stimuli, control, io, misc\n",
    "from expyriment.misc import constants\n",
    "from  expyriment.stimuli import FixCross, BlankScreen\n",
    "from  expyriment.stimuli import Picture\n",
    "\n",
    "# Modules for sound and image stimuli creation\n",
    "import pandas as pd\n",
    "#import numpy as np\n",
    "#import random\n",
    "\n",
    "# Modules for results saving and folder manipulations\n",
    "import os.path"
   ]
  },
  {
   "cell_type": "markdown",
   "metadata": {},
   "source": [
    "### Variables definition"
   ]
  },
  {
   "cell_type": "code",
   "execution_count": 1,
   "metadata": {},
   "outputs": [],
   "source": [
    "# Written comments\n",
    "\n",
    "Text_1=\"In the following exercice, you will be exposed to a test sequence composed of abstract sounds and images. The aim of the exercice is to explore the way we relate sounds and images in a spontaneous way.\"\n",
    "Text_2=\"For each test, you will have to choose between two images, the one you most spontaneously associate with the simultaneously displayed sound. The answer will be recorded, as well as your reaction time for each test.\"\n",
    "Test_3=\"Don't be disturbed by the annoying sounds, it not supposed to please you.\"\n",
    "Text_3=\"Let's get started\"\n",
    "Text_4=\"Thankyou very much for your contribution!\"\n",
    "\n",
    "# Relative paths\n",
    "\n",
    "Image_K_path=\"C:\\\\Users\\sooro\\Dropbox (Phoventure)\\PCBS Agnes\\Data\\images\\kiki.jpg\"\n",
    "Image_B_path=\"C:\\\\Users\\sooro\\Dropbox (Phoventure)\\PCBS Agnes\\Data\\images\\bouba.jpg\"\n",
    "Sons_K_path=\"C:\\\\Users\\sooro\\Dropbox (Phoventure)\\PCBS Agnes\\Data\\sons\\erreur.wav\"\n",
    "Sons_B_path=\n",
    "Results_path=\n",
    "\n",
    "# Experiment parameters\n",
    "\n",
    "Nb_block=\n",
    "Nb_trials=\n",
    "T_pause=\n"
   ]
  },
  {
   "cell_type": "markdown",
   "metadata": {},
   "source": [
    "### Experiment design"
   ]
  },
  {
   "cell_type": "code",
   "execution_count": null,
   "metadata": {},
   "outputs": [],
   "source": [
    "# Global settings definition\n",
    "exp = expyriment.design.Experiment(name=\"Text Experiment\")\n",
    "exp.data_variable_names = [\"Block\", \"Trial\", \"Key\", \"RT\"]\n",
    "#expyriment.control.set_develop_mode(True)\n",
    "\n",
    "# Initialization\n",
    "exp = expyriment.control.initialize()\n",
    "\n"
   ]
  },
  {
   "cell_type": "code",
   "execution_count": null,
   "metadata": {},
   "outputs": [],
   "source": [
    "# Basic (1 stimuli)"
   ]
  },
  {
   "cell_type": "code",
   "execution_count": null,
   "metadata": {},
   "outputs": [],
   "source": [
    "# Trial (L stimuli)"
   ]
  },
  {
   "cell_type": "code",
   "execution_count": null,
   "metadata": {},
   "outputs": [],
   "source": [
    "# Blocks of trial (N blocks of n trials of L stimuli )\n",
    "\n",
    "# Design creation (blocks and trials)\n",
    "block_one = expyriment.design.Block(name=\"3_frequencies_block\")\n",
    "trial_one = expyriment.design.Trial(name=\"trial_1\")\n",
    "\n",
    "# Stimuli creation (and put them into trials)\n",
    "stim_text = expyriment.stimuli.TextLine(text=Text_5)\n",
    "stim_text.preload()\n",
    "stim_audio = expyriment.stimuli.Audio()\n",
    "stim_audio.preload()\n",
    "stim_image= expyriment.stimuli.Picture()\n",
    "stim_image.preload()\n",
    "\n",
    "# Adding stimuli to trials to blocks to experiment\n",
    "\n",
    "trial_one.add_stimulus(stim)\n",
    "block_one.add_trial(trial_one)\n",
    "exp.add_block(block_one)\n",
    "\n",
    "# Device's input/output creation (like button boxes etc.)"
   ]
  },
  {
   "cell_type": "markdown",
   "metadata": {},
   "source": [
    "### Experiment execution"
   ]
  },
  {
   "cell_type": "code",
   "execution_count": null,
   "metadata": {},
   "outputs": [],
   "source": [
    "# Experiment conduction\n",
    "expyriment.control.start(skip_ready_screen = True)\n",
    "\n",
    "# Loop over blocks and trials, present stimuli and get user input\n",
    "for block in exp.blocks:\n",
    "    for trial in block.trials:\n",
    "        trial.stimuli[0].present()\n",
    "        key, rt = exp.keyboard.wait([expyriment.misc.constants.K_LEFT,\n",
    "                                     expyriment.misc.constants.K_RIGHT])\n",
    "        exp.data.add([block.name, trial.id, key, rt])\n",
    "\n",
    "expyriment.control.end(goodbye_text = Text_4, confirmation = False, goodbye_delay = 2000)"
   ]
  },
  {
   "cell_type": "markdown",
   "metadata": {},
   "source": [
    "### Results analysis"
   ]
  },
  {
   "cell_type": "code",
   "execution_count": null,
   "metadata": {},
   "outputs": [],
   "source": []
  },
  {
   "cell_type": "code",
   "execution_count": null,
   "metadata": {},
   "outputs": [],
   "source": []
  },
  {
   "cell_type": "code",
   "execution_count": null,
   "metadata": {},
   "outputs": [],
   "source": [
    "#It takes a filename as an input, so all you need to do \n",
    "#is to randomly select a filename from all the audio files in a folder. \n",
    "#For instance to select 10 random filenames from a folder with audio files\n",
    "\n",
    "import os\n",
    "import glob\n",
    "import expyriment as xpy\n",
    "\n",
    "files = glob.glob(os.path.join(\"/path/to/audio_files\", \"*.wav\"))\n",
    "xpy.design.randomize.shuffle_list(files)\n",
    "selection = files[:10]"
   ]
  },
  {
   "cell_type": "code",
   "execution_count": null,
   "metadata": {},
   "outputs": [],
   "source": [
    "[a link](https://github.com/user/repo/blob/branch/other_file.md)"
   ]
  }
 ],
 "metadata": {
  "kernelspec": {
   "display_name": "Python 3",
   "language": "python",
   "name": "python3"
  },
  "language_info": {
   "codemirror_mode": {
    "name": "ipython",
    "version": 3
   },
   "file_extension": ".py",
   "mimetype": "text/x-python",
   "name": "python",
   "nbconvert_exporter": "python",
   "pygments_lexer": "ipython3",
   "version": "3.6.6"
  }
 },
 "nbformat": 4,
 "nbformat_minor": 2
}
