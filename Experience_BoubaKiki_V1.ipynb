{
 "cells": [
  {
   "cell_type": "markdown",
   "metadata": {},
   "source": [
    "# A \"Bouba Kiki\"  acoustic experiment"
   ]
  },
  {
   "cell_type": "markdown",
   "metadata": {},
   "source": [
    "### Imported modules"
   ]
  },
  {
   "cell_type": "code",
   "execution_count": 1,
   "metadata": {},
   "outputs": [
    {
     "name": "stdout",
     "output_type": "stream",
     "text": [
      "pygame 1.9.6\n",
      "Hello from the pygame community. https://www.pygame.org/contribute.html\n",
      "Expyriment 0.9.0 (Python 3.7.0) \n",
      "\n"
     ]
    }
   ],
   "source": [
    "# Module utilisé pour la structure et l'interface de l' expérience\n",
    "import expyriment\n",
    "\n",
    "\n",
    "# Module pour sauvegarder les résultats\n",
    "import os.path"
   ]
  },
  {
   "cell_type": "markdown",
   "metadata": {},
   "source": [
    "### Variables definition"
   ]
  },
  {
   "cell_type": "code",
   "execution_count": 2,
   "metadata": {},
   "outputs": [
    {
     "name": "stdout",
     "output_type": "stream",
     "text": [
      "['B001.wav', 'B002.wav', 'B003.wav', 'K001.wav', 'K002.wav', 'K003.wav']\n"
     ]
    }
   ],
   "source": [
    "# éléments de texte\n",
    "\n",
    "Text_title=\"A Bouba Kiki Experiment\"\n",
    "Text_context=\"In the following exercice, you will be exposed to a test sequence composed of abstract sounds and images. The aim of the exercice is to explore the way we relate sounds and images in a spontaneous way.\"\n",
    "Text_rule=\"\"\"For each test, you will have to choose between two images,\n",
    "the one you most spontaneously associate with the simultaneously played sound. \n",
    "The answer will be recorded, as well as your reaction time for each test.\n",
    "\n",
    "Please use key <- for the left image and -> for the right\n",
    "\n",
    "Please press SPACE when ready to start !\"\"\"\n",
    "\n",
    "Text_end=\"Thank you very much for your contribution!\"\n",
    "\n",
    "\n",
    "\n",
    "# paramètres de l'expérience\n",
    "\n",
    "Nb_block= 1\n",
    "Nb_trials= 5\n",
    "T_pause= 2500\n",
    "\n",
    "path_sons=\"sons\"\n",
    "path_images=\"images\"\n",
    "soundList=os.listdir(path_sons)\n",
    "print(soundList)  #check\n"
   ]
  },
  {
   "cell_type": "markdown",
   "metadata": {},
   "source": [
    "### Experiment design and execution"
   ]
  },
  {
   "cell_type": "code",
   "execution_count": 3,
   "metadata": {},
   "outputs": [
    {
     "name": "stdout",
     "output_type": "stream",
     "text": [
      "\n",
      "Python is running in an interactive shell but Expyriment wants to initialize a\n",
      "fullscreen.\n",
      "Do you want to switch to windows mode? (Y/n) Y\n",
      "Switched to windows mode\n",
      "Standard output and error logging is switched off under IPython.\n",
      "['B001.wav', 'K003.wav', 'B002.wav', 'K002.wav', 'B002.wav']\n"
     ]
    },
    {
     "data": {
      "text/plain": [
       "True"
      ]
     },
     "execution_count": 3,
     "metadata": {},
     "output_type": "execute_result"
    }
   ],
   "source": [
    "# définition globale des settings\n",
    "exp = expyriment.design.Experiment(name=Text_title)\n",
    "exp.add_data_variable_names(['soundType','response', 'rt'])\n",
    "\n",
    "\n",
    "# Initialisation\n",
    "expyriment.control.initialize(exp)\n",
    "\n",
    "# création du stimuli\n",
    "chosenSound=[]\n",
    "for n in range(Nb_trials) :\n",
    "    chosenSound.append(expyriment.design.randomize.rand_element(soundList))\n",
    "    # creation d'une série aléatoire de sons K ou B\n",
    "print(chosenSound)\n",
    "\n",
    "text_instruct=expyriment.stimuli.TextBox(Text_rule,(400,300)) #texte d'introduction\n",
    "\n",
    "img1 =  expyriment.stimuli.Picture((path_images+r\"/bouba kiki.jpg\"))\n",
    "img1.scale((0.5,0.5))\n",
    "\n",
    "# éxecution de l'expérience\n",
    "\n",
    "expyriment.control.start()\n",
    "\n",
    "#instructions\n",
    "text_instruct.present() \n",
    "blank = exp.keyboard.wait(expyriment.misc.constants.K_SPACE)  #attend la pression de la barre d'espace\n",
    "\n",
    "for i in range (Nb_trials) :  #boucle principale, joue un son K ou B et enregistre le choix d'image\n",
    "    soundType=chosenSound[i]\n",
    "    sound=expyriment.stimuli.Audio(path_sons+r\"/\"+chosenSound[i])\n",
    "    sound.present()\n",
    "    img1.present()\n",
    "    #trial.stimuli[0].present(clear=True)\n",
    "    key, rt = exp.keyboard.wait([expyriment.misc.constants.K_LEFT,expyriment.misc.constants.K_RIGHT])\n",
    "    #efface ecran entre 2 trials\n",
    "    eff= expyriment.stimuli.BlankScreen()\n",
    "    eff.present()\n",
    "    exp.data.add([soundType,key,rt])\n",
    "    exp.clock.wait(T_pause)\n",
    "\n",
    "expyriment.control.end(goodbye_text = Text_end, confirmation = False, goodbye_delay = 2000)"
   ]
  }
 ],
 "metadata": {
  "kernelspec": {
   "display_name": "Python 3",
   "language": "python",
   "name": "python3"
  },
  "language_info": {
   "codemirror_mode": {
    "name": "ipython",
    "version": 3
   },
   "file_extension": ".py",
   "mimetype": "text/x-python",
   "name": "python",
   "nbconvert_exporter": "python",
   "pygments_lexer": "ipython3",
   "version": "3.7.0"
  }
 },
 "nbformat": 4,
 "nbformat_minor": 4
}
