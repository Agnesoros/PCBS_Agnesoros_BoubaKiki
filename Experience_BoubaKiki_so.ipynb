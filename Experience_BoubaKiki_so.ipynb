{
 "cells": [
  {
   "cell_type": "markdown",
   "metadata": {},
   "source": [
    "# A \"Bouba Kiki\" spectral experiment"
   ]
  },
  {
   "cell_type": "markdown",
   "metadata": {},
   "source": [
    "### Liens utiles"
   ]
  },
  {
   "cell_type": "markdown",
   "metadata": {},
   "source": [
    "Lien des exemples du prof:\n",
    "https://pcbs.readthedocs.io/en/latest/projects.html#examples-of-students-projects-from-previous-sessions\n",
    "\n",
    "Lien des exemples expyriment:\n",
    "https://github.com/expyriment/expyriment-stash"
   ]
  },
  {
   "cell_type": "markdown",
   "metadata": {},
   "source": [
    "### Imported modules"
   ]
  },
  {
   "cell_type": "code",
   "execution_count": 12,
   "metadata": {},
   "outputs": [],
   "source": [
    "# Modules for experiment structure and interface\n",
    "import expyriment\n",
    "\n",
    "#from expyriment import design, stimuli, control, io, misc\n",
    "#from expyriment.misc import constants\n",
    "#from  expyriment.stimuli import FixCross, BlankScreen\n",
    "#from  expyriment.stimuli import Picture\n",
    "\n",
    "# Modules for sound and image stimuli creation\n",
    "import pandas as pd\n",
    "#import numpy as np\n",
    "#import random\n",
    "\n",
    "# Modules for results saving and folder manipulations\n",
    "import os.path"
   ]
  },
  {
   "cell_type": "markdown",
   "metadata": {},
   "source": [
    "### Variables definition"
   ]
  },
  {
   "cell_type": "code",
   "execution_count": 9,
   "metadata": {},
   "outputs": [
    {
     "name": "stdout",
     "output_type": "stream",
     "text": [
      "ok\n"
     ]
    }
   ],
   "source": [
    "# Written comments\n",
    "\n",
    "Text_title=\"A Bouba Kiki Experiment\"\n",
    "Text_context=\"In the following exercice, you will be exposed to a test sequence composed of abstract sounds and images. The aim of the exercice is to explore the way we relate sounds and images in a spontaneous way.\"\n",
    "Text_rule=\"For each test, you will have to choose between two images, the one you most spontaneously associate with the simultaneously displayed sound. The answer will be recorded, as well as your reaction time for each test.\"\n",
    "Test_comment=\"Don't be disturbed by the annoying sounds, it not supposed to please you.\"\n",
    "Text_start=\"Let's get started\"\n",
    "Text_end=\"Thankyou very much for your contribution!\"\n",
    "\n",
    "# Relative paths\n",
    "\n",
    "Image_K_path=\"C:\\\\Users\\sooro\\Dropbox (Phoventure)\\PCBS Agnes\\Data\\images\\kiki.jpg\"\n",
    "Image_B_path=\"C:\\\\Users\\sooro\\Dropbox (Phoventure)\\PCBS Agnes\\Data\\images\\bouba.jpg\"\n",
    "Sons_K_path=\"C:\\\\Users\\sooro\\Dropbox (Phoventure)\\PCBS Agnes\\Data\\sons\\erreur.wav\"\n",
    "Sons_B_path=0\n",
    "Results_path=0\n",
    "\n",
    "# Experiment parameters\n",
    "\n",
    "Nb_block= 1\n",
    "Nb_trials= 3\n",
    "T_pause= 1000\n",
    "T_text=10000\n",
    "\n",
    "print(\"ok\")"
   ]
  },
  {
   "cell_type": "markdown",
   "metadata": {},
   "source": [
    "### Experiment design and execution"
   ]
  },
  {
   "cell_type": "code",
   "execution_count": null,
   "metadata": {},
   "outputs": [
    {
     "name": "stdout",
     "output_type": "stream",
     "text": [
      "Standard output and error logging is switched off under IPython.\n"
     ]
    }
   ],
   "source": [
    "# Global settings definition\n",
    "exp = expyriment.design.Experiment(name=Text_title)\n",
    "exp.add_data_variable_names(['response', 'rt'])\n",
    "expyriment.control.set_develop_mode(on=True)  ## Set develop mode. Comment for real experiment\n",
    "\n",
    "# Initialization\n",
    "expyriment.control.initialize(exp)\n",
    "\n",
    "# Stimuli creation\n",
    "img1 =  expyriment.stimuli.Picture(\"images\\kiki.jpg\", position=(-200, 100))\n",
    "img1.preload()\n",
    "#img2 =  expyriment.stimuli.Picture(\"bouba.jpg\", position=(200, 100))\n",
    "#img2.preload()\n",
    "sound=expyriment.stimuli.Audio(\"erreur.wav\")\n",
    "sound.preload()\n",
    "\n",
    "\n",
    "# Experiment conduction\n",
    "expyriment.control.start()\n",
    "\n",
    "    \n",
    "for i in range (Nb_trials) :\n",
    "    \n",
    "    sound.present()\n",
    "    img1.present()\n",
    "    #img2.present()\n",
    "    key, rt = exp.keyboard.wait()\n",
    "    exp.data.add([key,rt])\n",
    "\n",
    "expyriment.control.end(goodbye_text = Text_end, confirmation = False, goodbye_delay = 2000)"
   ]
  },
  {
   "cell_type": "markdown",
   "metadata": {},
   "source": [
    "### Results analysis"
   ]
  },
  {
   "cell_type": "code",
   "execution_count": 6,
   "metadata": {},
   "outputs": [
    {
     "data": {
      "text/plain": [
       "'A Bouba Kiki Experiment'"
      ]
     },
     "execution_count": 6,
     "metadata": {},
     "output_type": "execute_result"
    }
   ],
   "source": [
    "Text_title"
   ]
  },
  {
   "cell_type": "code",
   "execution_count": null,
   "metadata": {},
   "outputs": [],
   "source": []
  }
 ],
 "metadata": {
  "kernelspec": {
   "display_name": "Python 3",
   "language": "python",
   "name": "python3"
  },
  "language_info": {
   "codemirror_mode": {
    "name": "ipython",
    "version": 3
   },
   "file_extension": ".py",
   "mimetype": "text/x-python",
   "name": "python",
   "nbconvert_exporter": "python",
   "pygments_lexer": "ipython3",
   "version": "3.7.3"
  }
 },
 "nbformat": 4,
 "nbformat_minor": 4
}
