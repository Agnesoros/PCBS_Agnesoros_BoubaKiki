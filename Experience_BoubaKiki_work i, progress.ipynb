{
 "cells": [
  {
   "cell_type": "markdown",
   "metadata": {},
   "source": [
    "# A \"Bouba Kiki\" spectral experiment"
   ]
  },
  {
   "cell_type": "markdown",
   "metadata": {},
   "source": [
    "### Liens utiles"
   ]
  },
  {
   "cell_type": "markdown",
   "metadata": {},
   "source": [
    "Lien des exemples du prof:\n",
    "https://pcbs.readthedocs.io/en/latest/projects.html#examples-of-students-projects-from-previous-sessions\n",
    "\n",
    "Lien des exemples expyriment:\n",
    "https://github.com/expyriment/expyriment-stash"
   ]
  },
  {
   "cell_type": "markdown",
   "metadata": {},
   "source": [
    "### Imported modules"
   ]
  },
  {
   "cell_type": "code",
   "execution_count": 1,
   "metadata": {},
   "outputs": [
    {
     "name": "stdout",
     "output_type": "stream",
     "text": [
      "Expyriment 0.10.0 (Python 3.7.3) \n"
     ]
    }
   ],
   "source": [
    "# Modules for experiment structure and interface\n",
    "import expyriment\n",
    "\n",
    "#from expyriment import design, stimuli, control, io, misc\n",
    "#from expyriment.misc import constants\n",
    "#from  expyriment.stimuli import FixCross, BlankScreen\n",
    "#from  expyriment.stimuli import Picture\n",
    "\n",
    "# Modules for sound and image stimuli creation\n",
    "import pandas as pd\n",
    "#import numpy as np\n",
    "#import random\n",
    "\n",
    "# Modules for results saving and folder manipulations\n",
    "import os.path"
   ]
  },
  {
   "cell_type": "markdown",
   "metadata": {},
   "source": [
    "### Variables definition"
   ]
  },
  {
   "cell_type": "code",
   "execution_count": 2,
   "metadata": {},
   "outputs": [
    {
     "name": "stdout",
     "output_type": "stream",
     "text": [
      "['B001.wav', 'B002.wav', 'B003.wav', 'K001.wav', 'K002.wav', 'K003.wav']\n",
      "ok\n"
     ]
    }
   ],
   "source": [
    "# Text elements\n",
    "\n",
    "Text_title=\"A Bouba Kiki Experiment\"\n",
    "Text_context=\"In the following exercice, you will be exposed to a test sequence composed of abstract sounds and images. The aim of the exercice is to explore the way we relate sounds and images in a spontaneous way.\"\n",
    "Text_rule=\"\"\"For each test, you will have to choose between two images,\n",
    "the one you most spontaneously associate with the simultaneously played sound. \n",
    "The answer will be recorded, as well as your reaction time for each test.\n",
    "\n",
    "Please use key <- for the left image and -> for the right\n",
    "\n",
    "Please press SPACE when ready to start !\"\"\"\n",
    "\n",
    "Text_end=\"Thank you very much for your contribution!\"\n",
    "\n",
    "\n",
    "\n",
    "# Experiment parameters\n",
    "\n",
    "Nb_block= 1\n",
    "Nb_trials= 5\n",
    "T_pause= 1000\n",
    "T_text=10000\n",
    "path_sons=\"sons\"\n",
    "path_images=\"images\"\n",
    "soundList=os.listdir(path_sons)\n",
    "print(soundList)  #check\n"
   ]
  },
  {
   "cell_type": "markdown",
   "metadata": {},
   "source": [
    "### Experiment design and execution"
   ]
  },
  {
   "cell_type": "code",
   "execution_count": 3,
   "metadata": {},
   "outputs": [
    {
     "name": "stdout",
     "output_type": "stream",
     "text": [
      "\n",
      "Python is running in an interactive shell but Expyriment wants to initialize a\n",
      "fullscreen.\n"
     ]
    },
    {
     "name": "stdin",
     "output_type": "stream",
     "text": [
      "Do you want to switch to windows mode? (Y/n)  Y\n"
     ]
    },
    {
     "name": "stdout",
     "output_type": "stream",
     "text": [
      "Switched to windows mode\n",
      "Standard output and error logging is switched off under IPython.\n",
      "['B003.wav', 'K001.wav', 'K002.wav', 'B001.wav', 'K001.wav']\n"
     ]
    },
    {
     "data": {
      "text/plain": [
       "True"
      ]
     },
     "execution_count": 3,
     "metadata": {},
     "output_type": "execute_result"
    }
   ],
   "source": [
    "# Global settings definition\n",
    "exp = expyriment.design.Experiment(name=Text_title)\n",
    "exp.add_data_variable_names(['soundType','response', 'rt'])\n",
    "\n",
    "\n",
    "# Initialization\n",
    "expyriment.control.initialize(exp)\n",
    "\n",
    "# Stimuli creation\n",
    "chosenSound=[]\n",
    "for n in range(Nb_trials) :\n",
    "    chosenSound.append(expyriment.design.randomize.rand_element(soundList))\n",
    "    # creation d'une série aléatoire de sons K ou B\n",
    "print(chosenSound)\n",
    "\n",
    "text_instruct=expyriment.stimuli.TextBox(Text_rule,(400,300)) #texte d'introduction\n",
    "\n",
    "img1 =  expyriment.stimuli.Picture((path_images +r\"/\"+\"bouba kiki.jpg\"))\n",
    "img1.scale((0.5,0.5))\n",
    "\n",
    "# Experiment execution\n",
    "\n",
    "expyriment.control.start()\n",
    "\n",
    "#instructions\n",
    "text_instruct.present() \n",
    "blank = exp.keyboard.wait(expyriment.misc.constants.K_SPACE)  #attend la pression de la barre d'espace\n",
    "\n",
    "for i in range (Nb_trials) :  #boucle principale, joue un son K ou B et \n",
    "    soundType=chosenSound[i][0]\n",
    "    sound=expyriment.stimuli.Audio(path_sons+r\"/\"+chosenSound[i])\n",
    "    sound.present()\n",
    "    img1.present(clear=False)\n",
    "    #trial.stimuli[0].present(clear=True)\n",
    "    key, rt = exp.keyboard.wait([expyriment.misc.constants.K_LEFT,expyriment.misc.constants.K_RIGHT])\n",
    "    exp.data.add([soundType,key,rt])\n",
    "    exp.clock.wait(T_pause)\n",
    "\n",
    "expyriment.control.end(goodbye_text = Text_end, confirmation = False, goodbye_delay = 2000)"
   ]
  },
  {
   "cell_type": "markdown",
   "metadata": {},
   "source": [
    "### Results analysis"
   ]
  },
  {
   "cell_type": "code",
   "execution_count": null,
   "metadata": {},
   "outputs": [],
   "source": []
  },
  {
   "cell_type": "code",
   "execution_count": 4,
   "metadata": {},
   "outputs": [
    {
     "name": "stdout",
     "output_type": "stream",
     "text": [
      "['a', 'b']\n"
     ]
    }
   ],
   "source": [
    "l=[\"a\",\"b\",\"c\"]\n",
    "g=[]\n",
    "for k in range(2):\n",
    "   g.append(l[k])\n",
    "print(g)"
   ]
  },
  {
   "cell_type": "code",
   "execution_count": 5,
   "metadata": {},
   "outputs": [
    {
     "data": {
      "text/plain": [
       "'images/bouba kiki.jpg'"
      ]
     },
     "execution_count": 5,
     "metadata": {},
     "output_type": "execute_result"
    }
   ],
   "source": [
    "path_images+r\"/bouba kiki.jpg\""
   ]
  },
  {
   "cell_type": "code",
   "execution_count": 6,
   "metadata": {},
   "outputs": [
    {
     "data": {
      "text/plain": [
       "'K'"
      ]
     },
     "execution_count": 6,
     "metadata": {},
     "output_type": "execute_result"
    }
   ],
   "source": [
    "soundType"
   ]
  },
  {
   "cell_type": "code",
   "execution_count": null,
   "metadata": {},
   "outputs": [],
   "source": []
  }
 ],
 "metadata": {
  "kernelspec": {
   "display_name": "Python 3",
   "language": "python",
   "name": "python3"
  },
  "language_info": {
   "codemirror_mode": {
    "name": "ipython",
    "version": 3
   },
   "file_extension": ".py",
   "mimetype": "text/x-python",
   "name": "python",
   "nbconvert_exporter": "python",
   "pygments_lexer": "ipython3",
   "version": "3.7.3"
  }
 },
 "nbformat": 4,
 "nbformat_minor": 4
}
